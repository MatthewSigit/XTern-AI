{
 "cells": [
  {
   "cell_type": "code",
   "execution_count": null,
   "id": "26e00dd9-6d22-4a5b-8eb4-f180c482eb2b",
   "metadata": {},
   "outputs": [],
   "source": [
    "import pandas\n",
    "from sklearn.model_selection import train_test_split\n",
    "from sklearn.preprocessing import LabelEncoder\n",
    "from sklearn.neighbors import KNeighborsClassifier\n",
    "from sklearn.metrics import accuracy_score\n",
    "\n",
    "data = pandas.read_csv(\"xterndata.csv\")\n",
    "\n",
    "label_encoder = LabelEncoder()\n",
    "data[\"Year\"] = label_encoder.fit_transform(data[\"Year\"])\n",
    "data[\"Major\"] = label_encoder.fit_transform(data[\"Major\"])\n",
    "data[\"University\"] = label_encoder.fit_transform(data[\"University\"])\n",
    "data[\"Time\"] = label_encoder.fit_transform(data[\"Time\"])\n",
    "X = data[[\"Year\", \"Major\", \"University\", \"Time\"]]\n",
    "y = data[\"Order\"]\n",
    "X_train, X_test, y_train, y_test = train_test_split(X, y, test_size=0.25, random_state=10)\n",
    "\n",
    "clf = KNeighborsClassifier()\n",
    "clf.fit(X_train, y_train)\n",
    "y_pred = clf.predict(X_test)\n",
    "\n",
    "accuracy = accuracy_score(y_test, y_pred)\n",
    "print(f'Accuracy: {accuracy}')"
   ]
  }
 ],
 "metadata": {
  "kernelspec": {
   "display_name": "Python 3 (ipykernel)",
   "language": "python",
   "name": "python3"
  },
  "language_info": {
   "codemirror_mode": {
    "name": "ipython",
    "version": 3
   },
   "file_extension": ".py",
   "mimetype": "text/x-python",
   "name": "python",
   "nbconvert_exporter": "python",
   "pygments_lexer": "ipython3",
   "version": "3.11.6"
  }
 },
 "nbformat": 4,
 "nbformat_minor": 5
}
